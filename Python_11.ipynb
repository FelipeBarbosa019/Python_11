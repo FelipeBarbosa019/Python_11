{
  "nbformat": 4,
  "nbformat_minor": 0,
  "metadata": {
    "colab": {
      "provenance": []
    },
    "kernelspec": {
      "name": "python3",
      "display_name": "Python 3"
    },
    "language_info": {
      "name": "python"
    }
  },
  "cells": [
    {
      "cell_type": "markdown",
      "source": [
        "Faça um programa em python que faça a divisão de 1 por um valor passado por uma variável e realize o tratamento para as entradas abaixo:\n",
        "\n",
        "entrada = 0\n",
        "divisao = 1/entrada # vai dar error\n",
        "\n",
        "Nesse caso tem que ser tratado o erro de divisão por zero, criar um tratamento de exceção para esse tipo de erro e imprimir uma mensagem amigável com o tipo de erro.\n",
        "\n",
        "entrada = ‘teste’\n",
        "divisao = 1/entrada # vai dar error\n",
        "\n",
        "Nesse caso tem que ser tratado o erro de tipo, criar um tratamento # exceção\n",
        "\n",
        "para esse tipo de erro e imprimir uma mensagem amigável com o tipo de erro.\n",
        "\n",
        "E deixar o código para tratar erros genéricos diferentes dos mencionados acima.\n",
        "\n",
        "Caso a entrada seja um valor que não provoque erro, imprimir o valor da divisão.\n",
        "\n",
        "Por fim, independente de ter erro ou não imprimir ao final da execução do programa, dentro da estrutura de tratamento de exceções uma mensagem informando seu nome.\n",
        "\n",
        "Crie esse código, suba para o github e envie na plataforma somente o link do repositório com o exercício resolvido."
      ],
      "metadata": {
        "id": "vi3EEUSSuU8d"
      }
    },
    {
      "cell_type": "code",
      "execution_count": 2,
      "metadata": {
        "colab": {
          "base_uri": "https://localhost:8080/"
        },
        "id": "TrxRBisQuNou",
        "outputId": "da100189-18c9-4d4f-a181-10126c918dbd"
      },
      "outputs": [
        {
          "output_type": "stream",
          "name": "stdout",
          "text": [
            "Digite um número: 2\n",
            "Resultado da divisão: 0.5\n",
            "Felipe Barbosa\n"
          ]
        }
      ],
      "source": [
        "try:\n",
        "    entrada = float(input(\"Digite um número: \"))\n",
        "    if entrada == 0:\n",
        "        raise ValueError(\"Não é possível realizar a divisão por zero\")\n",
        "    divisao = 1 / entrada\n",
        "    print(\"Resultado da divisão:\", divisao)\n",
        "except ValueError as e:\n",
        "    print(\"Ocorreu um erro:\", e)\n",
        "except Exception as e:\n",
        "    print(\"Ocorreu um erro genérico:\", e)\n",
        "finally:\n",
        "    print(\"Felipe Barbosa\")"
      ]
    },
    {
      "cell_type": "code",
      "source": [
        "#Caso 1 entrada = 0\n",
        "\n",
        "try:\n",
        "    entrada = 0\n",
        "    if entrada == 0:\n",
        "        raise ValueError(\"Não é possível realizar a divisão por zero\")\n",
        "    divisao = 1 / entrada\n",
        "    print(\"Resultado da divisão:\", divisao)\n",
        "except ValueError as e:\n",
        "    print(\"Ocorreu um erro:\", e)\n",
        "except TypeError as e:\n",
        "    print(\"Ocorreu um erro devido ao tipo de entrada inserida\")\n",
        "except Exception as e:\n",
        "    print(\"Ocorreu um erro genérico:\", e)\n",
        "finally:\n",
        "    print(\"Felipe Barbosa\")"
      ],
      "metadata": {
        "colab": {
          "base_uri": "https://localhost:8080/"
        },
        "id": "Lyv3z7FYhrTR",
        "outputId": "84db03ad-f0cf-4580-a525-8d1513c915cd"
      },
      "execution_count": 6,
      "outputs": [
        {
          "output_type": "stream",
          "name": "stdout",
          "text": [
            "Ocorreu um erro: Não é possível realizar a divisão por zero\n",
            "Felipe Barbosa\n"
          ]
        }
      ]
    },
    {
      "cell_type": "code",
      "source": [
        "#Caso 2 entrada = 'teste'\n",
        "try:\n",
        "    entrada = 'teste'\n",
        "    if entrada == 0:\n",
        "        raise ValueError(\"Não é possível realizar a divisão por zero\")\n",
        "    divisao = 1 / entrada\n",
        "    print(\"Resultado da divisão:\", divisao)\n",
        "except ValueError as e:\n",
        "    print(\"Ocorreu um erro:\", e)\n",
        "except TypeError as e:\n",
        "    print(\"Ocorreu um erro devido ao tipo de entrada inserida\")\n",
        "except Exception as e:\n",
        "    print(\"Ocorreu um erro genérico:\", e)\n",
        "finally:\n",
        "    print(\"Felipe Barbosa\")"
      ],
      "metadata": {
        "colab": {
          "base_uri": "https://localhost:8080/"
        },
        "id": "OaL6SVlliSur",
        "outputId": "98488194-9741-451f-b53f-db88d01fd3bf"
      },
      "execution_count": 7,
      "outputs": [
        {
          "output_type": "stream",
          "name": "stdout",
          "text": [
            "Ocorreu um erro devido ao tipo de entrada inserida\n",
            "Felipe Barbosa\n"
          ]
        }
      ]
    }
  ]
}